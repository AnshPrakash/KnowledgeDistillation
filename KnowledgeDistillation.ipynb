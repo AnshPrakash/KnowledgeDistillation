{
  "nbformat": 4,
  "nbformat_minor": 0,
  "metadata": {
    "colab": {
      "provenance": [],
      "gpuType": "T4"
    },
    "kernelspec": {
      "name": "python3",
      "display_name": "Python 3"
    },
    "language_info": {
      "name": "python"
    },
    "accelerator": "GPU"
  },
  "cells": [
    {
      "cell_type": "code",
      "source": [
        "import torch\n",
        "import torch.nn as nn\n",
        "import torch.optim as optim\n",
        "import torch.nn.functional as F\n",
        "import torch.backends.cudnn as cudnn\n",
        "import torch.multiprocessing as mp\n",
        "\n",
        "import torchvision\n",
        "import torchvision.transforms as transforms\n",
        "from torch.utils.data import DataLoader, random_split"
      ],
      "metadata": {
        "id": "-EvEjQvJNpg-"
      },
      "execution_count": 32,
      "outputs": []
    },
    {
      "cell_type": "code",
      "execution_count": 33,
      "metadata": {
        "colab": {
          "base_uri": "https://localhost:8080/"
        },
        "id": "YDfsThIkGENZ",
        "outputId": "334e3d50-225b-4b4c-f9b8-e7ec8eea1a0b"
      },
      "outputs": [
        {
          "output_type": "stream",
          "name": "stdout",
          "text": [
            "cuda\n"
          ]
        }
      ],
      "source": [
        "device = 'cuda' if torch.cuda.is_available() else 'cpu'\n",
        "print(device)"
      ]
    },
    {
      "cell_type": "markdown",
      "source": [],
      "metadata": {
        "id": "tLYyfo-LIoi-"
      }
    },
    {
      "cell_type": "markdown",
      "source": [
        "## **Download CIFAR-10 Dataset**"
      ],
      "metadata": {
        "id": "Ro7SXEdBIomm"
      }
    },
    {
      "cell_type": "code",
      "source": [
        "print('==> Preparing data..')\n",
        "transform_train = transforms.Compose([\n",
        "    transforms.RandomCrop(32, padding=4),\n",
        "    transforms.RandomHorizontalFlip(),\n",
        "    transforms.ToTensor(),\n",
        "    transforms.Normalize((0.4914, 0.4822, 0.4465), (0.2023, 0.1994, 0.2010)),\n",
        "])\n",
        "\n",
        "transform_test = transforms.Compose([\n",
        "    transforms.ToTensor(),\n",
        "    transforms.Normalize((0.4914, 0.4822, 0.4465), (0.2023, 0.1994, 0.2010)),\n",
        "])\n",
        "\n",
        "trainset = torchvision.datasets.CIFAR10(\n",
        "    root='./data', train=True, download=True, transform=transform_train)\n",
        "\n",
        "\n",
        "\n",
        "# Define the split ratio\n",
        "train_size = int(0.8 * len(trainset))  # 80% for training\n",
        "val_size = len(trainset) - train_size  # Remaining 20% for validation\n",
        "\n",
        "# Randomly split the training dataset into training and validation sets\n",
        "train_set, val_set = random_split(trainset, [train_size, val_size])\n",
        "\n",
        "debug_size = int(0.02 * len(trainset))\n",
        "_, debug_set = random_split(trainset, [ len(trainset) - debug_size, debug_size])\n",
        "\n",
        "debug_loader = torch.utils.data.DataLoader(\n",
        "    debug_set, batch_size=128, shuffle=True, num_workers=2)\n",
        "\n",
        "testset = torchvision.datasets.CIFAR10(\n",
        "    root='./data', train=False, download=True, transform=transform_test)\n",
        "\n",
        "trainloader = torch.utils.data.DataLoader(\n",
        "    train_set, batch_size=128, shuffle=True, num_workers=2)\n",
        "\n",
        "valloader = torch.utils.data.DataLoader(\n",
        "    val_set, batch_size=128, shuffle=False, num_workers=2)\n",
        "\n",
        "testloader = torch.utils.data.DataLoader(\n",
        "    testset, batch_size=100, shuffle=False, num_workers=2)\n",
        "\n",
        "classes = ('plane', 'car', 'bird', 'cat', 'deer',\n",
        "           'dog', 'frog', 'horse', 'ship', 'truck')"
      ],
      "metadata": {
        "colab": {
          "base_uri": "https://localhost:8080/"
        },
        "id": "bksMfFvSNYpH",
        "outputId": "7fac512f-c902-49d5-bb19-ab02c33df899"
      },
      "execution_count": 35,
      "outputs": [
        {
          "output_type": "stream",
          "name": "stdout",
          "text": [
            "==> Preparing data..\n",
            "Files already downloaded and verified\n",
            "Files already downloaded and verified\n"
          ]
        }
      ]
    },
    {
      "cell_type": "markdown",
      "source": [],
      "metadata": {
        "id": "f7ATFqApIoqR"
      }
    },
    {
      "cell_type": "markdown",
      "source": [
        "## **ResNet Model**"
      ],
      "metadata": {
        "id": "eahu0vi8Ioxd"
      }
    },
    {
      "cell_type": "code",
      "source": [
        "\n",
        "class BasicBlock(nn.Module):\n",
        "    expansion = 1\n",
        "\n",
        "    def __init__(self, in_channels, out_channels, stride=1, downsample=None):\n",
        "        super(BasicBlock, self).__init__()\n",
        "        self.conv1 = nn.Conv2d(in_channels, out_channels, kernel_size=3, stride=stride, padding=1, bias=False)\n",
        "        self.bn1 = nn.BatchNorm2d(out_channels)\n",
        "        self.conv2 = nn.Conv2d(out_channels, out_channels, kernel_size=3, stride=1, padding=1, bias=False)\n",
        "        self.bn2 = nn.BatchNorm2d(out_channels)\n",
        "        self.downsample = downsample\n",
        "\n",
        "    def forward(self, x):\n",
        "        identity = x\n",
        "\n",
        "        out = self.conv1(x)\n",
        "        out = self.bn1(out)\n",
        "        out = F.relu(out)\n",
        "\n",
        "        out = self.conv2(out)\n",
        "        out = self.bn2(out)\n",
        "\n",
        "        if self.downsample is not None:\n",
        "            identity = self.downsample(x)\n",
        "\n",
        "        out += identity\n",
        "        out = F.relu(out)\n",
        "\n",
        "        return out\n",
        "\n",
        "class ResNet_CIFAR10(nn.Module):\n",
        "    def __init__(self, block, layers, num_classes=10):\n",
        "        super(ResNet_CIFAR10, self).__init__()\n",
        "        self.in_channels = 64\n",
        "        self.conv1 = nn.Conv2d(3, 64, kernel_size=3, stride=1, padding=1, bias=False)  # Changed kernel to 3x3\n",
        "        self.bn1 = nn.BatchNorm2d(64)\n",
        "        self.relu = nn.ReLU(inplace=True)\n",
        "\n",
        "        # Removed maxpool since it's not needed for CIFAR-10's small input size\n",
        "\n",
        "        self.layer1 = self._make_layer(block, 64, layers[0])\n",
        "        self.layer2 = self._make_layer(block, 128, layers[1], stride=2)\n",
        "        self.layer3 = self._make_layer(block, 256, layers[2], stride=2)\n",
        "        self.layer4 = self._make_layer(block, 512, layers[3], stride=2)\n",
        "\n",
        "        self.avgpool = nn.AdaptiveAvgPool2d((1, 1))\n",
        "        self.fc = nn.Linear(512 * block.expansion, num_classes)\n",
        "\n",
        "    def _make_layer(self, block, out_channels, blocks, stride=1):\n",
        "        downsample = None\n",
        "        if stride != 1 or self.in_channels != out_channels * block.expansion:\n",
        "            downsample = nn.Sequential(\n",
        "                nn.Conv2d(self.in_channels, out_channels * block.expansion, kernel_size=1, stride=stride, bias=False),\n",
        "                nn.BatchNorm2d(out_channels * block.expansion),\n",
        "            )\n",
        "\n",
        "        layers = []\n",
        "        layers.append(block(self.in_channels, out_channels, stride, downsample))\n",
        "        self.in_channels = out_channels * block.expansion\n",
        "\n",
        "        for _ in range(1, blocks):\n",
        "            layers.append(block(self.in_channels, out_channels))\n",
        "\n",
        "        return nn.Sequential(*layers)\n",
        "\n",
        "    def forward(self, x):\n",
        "        x = self.conv1(x)\n",
        "        x = self.bn1(x)\n",
        "        x = self.relu(x)\n",
        "\n",
        "        x = self.layer1(x)\n",
        "        x = self.layer2(x)\n",
        "        x = self.layer3(x)\n",
        "        x = self.layer4(x)\n",
        "\n",
        "        x = self.avgpool(x)\n",
        "        x = torch.flatten(x, 1)\n",
        "        x = self.fc(x)\n",
        "\n",
        "        return x\n",
        "\n"
      ],
      "metadata": {
        "id": "3jQFuybPIsvt"
      },
      "execution_count": 36,
      "outputs": []
    },
    {
      "cell_type": "markdown",
      "source": [
        "## **Number of Layers in Resnet are caluculated as follows**\n",
        "\n",
        "- 1 FC at the end\n",
        "- 1 Conv layer in the begining\n",
        "- BasicBlock: 2 conv Layer\n",
        "- Each Layer could have multiple BasicBlocks\n",
        "\n",
        "Example: ResNet_CIFAR10(BasicBlock,[2, 1, 1, 1])\n",
        "1 conv in the begining + 1 fc at the end +\n",
        "Layer1 : 2 Basicblocks => 4 Conv layer\n",
        "Layer2 : 1 Basicblock => 2 Conv Layer\n",
        "Layer3: 1 Basicblock => 2 conv Layer\n",
        "Layer3 : 1 Basicblock => 2 conv Layer\n",
        "\n",
        "Total Layer = 1 + 1 + 4 + 2 +2 +2 = 12\n",
        "So, this is ResNet12 with Layer1 having 2 basicblocks"
      ],
      "metadata": {
        "id": "Dd6xxT5UcJbU"
      }
    },
    {
      "cell_type": "code",
      "source": [],
      "metadata": {
        "id": "JtcKmsntXZng"
      },
      "execution_count": 4,
      "outputs": []
    },
    {
      "cell_type": "code",
      "source": [
        "resnet_10 = ResNet_CIFAR10(BasicBlock,[1, 1, 1, 1])"
      ],
      "metadata": {
        "id": "hOhLpNRRXbyA"
      },
      "execution_count": 37,
      "outputs": []
    },
    {
      "cell_type": "code",
      "source": [
        "resnet_12 = ResNet_CIFAR10(BasicBlock,[2, 1, 1, 1])"
      ],
      "metadata": {
        "id": "WHNrR1dMXveB"
      },
      "execution_count": 38,
      "outputs": []
    },
    {
      "cell_type": "code",
      "source": [
        "resnet_14 = ResNet_CIFAR10(BasicBlock,[2, 2, 1, 1])"
      ],
      "metadata": {
        "id": "TnvRuJwmX_i_"
      },
      "execution_count": 39,
      "outputs": []
    },
    {
      "cell_type": "code",
      "source": [
        "resnet_18 = ResNet_CIFAR10(BasicBlock,[2, 2, 2, 2])"
      ],
      "metadata": {
        "id": "AP7ksQhHcCDJ"
      },
      "execution_count": 40,
      "outputs": []
    },
    {
      "cell_type": "markdown",
      "source": [
        "## **Baseline Training for all Models**\n",
        "\n"
      ],
      "metadata": {
        "id": "tpRMgKwneNO8"
      }
    },
    {
      "cell_type": "code",
      "source": [
        "# Training and testing utilities\n",
        "def train(model, device, train_loader, optimizer, criterion, epoch, train_losses, model_name):\n",
        "    model.train()\n",
        "    running_loss = 0.0\n",
        "    for batch_idx, (data, target) in enumerate(train_loader):\n",
        "        data, target = data.to(device), target.to(device)\n",
        "        optimizer.zero_grad()\n",
        "        output = model(data)\n",
        "        loss = criterion(output, target)\n",
        "        loss.backward()\n",
        "        optimizer.step()\n",
        "\n",
        "        running_loss += loss.item()\n",
        "        if batch_idx % 100 == 0:\n",
        "            print(f'Train Epoch: {epoch} [{batch_idx * len(data)}/{len(train_loader.dataset)}] Loss: {loss.item():.6f}')\n",
        "\n",
        "    average_loss = running_loss / len(train_loader)\n",
        "    train_losses.append(average_loss)\n",
        "\n",
        "    if epoch%25 == 0:\n",
        "      # Specify a path to save the model and optimizer state\n",
        "      save_path = model_name + \"_\" + epoch + \".pth\"\n",
        "\n",
        "      # Save model and optimizer state\n",
        "      torch.save({\n",
        "          'model_state_dict': model.state_dict(),\n",
        "          'optimizer_state_dict': optimizer.state_dict(),\n",
        "          'epoch': epoch,\n",
        "          'loss': average_loss\n",
        "      }, save_path)\n",
        "\n",
        "\n",
        "def test(model, device, test_loader, criterion, test_losses):\n",
        "    model.eval()\n",
        "    test_loss = 0.0\n",
        "    correct = 0\n",
        "    with torch.no_grad():\n",
        "        for data, target in test_loader:\n",
        "            data, target = data.to(device), target.to(device)\n",
        "            output = model(data)\n",
        "            test_loss += criterion(output, target).item()\n",
        "            pred = output.argmax(dim=1, keepdim=True)\n",
        "            correct += pred.eq(target.view_as(pred)).sum().item()\n",
        "\n",
        "    average_loss = test_loss / len(test_loader)\n",
        "    test_losses.append(average_loss)\n",
        "    print(f'Test set: Average loss: {average_loss:.4f}, Accuracy: {correct}/{len(test_loader.dataset)} ({100. * correct / len(test_loader.dataset):.0f}%)')\n"
      ],
      "metadata": {
        "id": "Cn9lnh_DeRcE"
      },
      "execution_count": 41,
      "outputs": []
    },
    {
      "cell_type": "code",
      "source": [
        "def training_process(model, device, model_name = None, num_epochs = None, checkpoint = None):\n",
        "  criterion = nn.CrossEntropyLoss()       # Cross-entropy loss for classification\n",
        "  if checkpoint is not None:\n",
        "    checkpoint = torch.load(checkpoint)\n",
        "    model.load_state_dict(checkpoint['model_state_dict'])\n",
        "    optimizer.load_state_dict(checkpoint['optimizer_state_dict'])\n",
        "    start_epoch = checkpoint['epoch']\n",
        "  else:\n",
        "    optimizer = optim.Adam(model.parameters(), lr=0.001)  # Adam optimizer\n",
        "    start_epoch = 0\n",
        "  model.to(device)\n",
        "  train_losses = []\n",
        "  validation_losses = []\n",
        "  iters = 100\n",
        "  for epoch in range(start_epoch, start_epoch + iters):\n",
        "      # train(model, device, debug_loader, optimizer, criterion, epoch, train_losses)\n",
        "      train(model, device, trainloader, optimizer, criterion, epoch, train_losses)\n",
        "      test(model, device, valloader, criterion, validation_losses)\n",
        "  num_epochs[model_name] = start_epoch + iters\n",
        "\n",
        "\n"
      ],
      "metadata": {
        "id": "oevy8-cBzAjY"
      },
      "execution_count": 42,
      "outputs": []
    },
    {
      "cell_type": "code",
      "source": [
        "models = [resnet_10, resnet_12, resnet_14, resnet_18 ]\n",
        "model_names = [\"resnet_10\", \"resnet_12\", \"resnet_14\", \"resnet_18\"]\n",
        "num_epochs = {\n",
        "    \"resnet_10\": 0,\n",
        "    \"resnet_12\": 0,\n",
        "    \"resnet_14\": 0,\n",
        "    \"resnet_18\": 0\n",
        "}\n"
      ],
      "metadata": {
        "id": "2s2f4EA20XCA"
      },
      "execution_count": 43,
      "outputs": []
    },
    {
      "cell_type": "code",
      "source": [
        "# training_process(resnet_10, device, model_name = \"resnet_10\", num_epochs = num_epochs)"
      ],
      "metadata": {
        "id": "qMYW6bdN7ZOL"
      },
      "execution_count": 45,
      "outputs": []
    },
    {
      "cell_type": "code",
      "source": [
        "# criterion = nn.CrossEntropyLoss()\n",
        "# test(resnet_18, device, debug_loader, criterion, [])"
      ],
      "metadata": {
        "id": "idUyW7ik0fVf"
      },
      "execution_count": 46,
      "outputs": []
    },
    {
      "cell_type": "markdown",
      "source": [
        "## **Parallel Training**"
      ],
      "metadata": {
        "id": "DXF57n9MOeYF"
      }
    },
    {
      "cell_type": "code",
      "source": [
        "# Function to handle parallel training\n",
        "def parallel_training(models, model_names, device):\n",
        "    # Create a list of processes\n",
        "    processes = []\n",
        "    for i, model in enumerate(models):\n",
        "        process = mp.Process(target=training_process, args=( model, device, model_names[i], num_epochs, None ))\n",
        "        processes.append(process)\n",
        "        process.start()\n",
        "\n",
        "    # Wait for all processes to complete\n",
        "    for process in processes:\n",
        "        process.join()\n"
      ],
      "metadata": {
        "id": "3eI8wVW924so"
      },
      "execution_count": 47,
      "outputs": []
    },
    {
      "cell_type": "code",
      "source": [
        "# Ensure multiprocessing works well in Jupyter/interactive environments\n",
        "def set_mp_start_method():\n",
        "  try:\n",
        "    # Only set start method if it hasn't been set yet\n",
        "    mp.set_start_method('spawn', force=True)\n",
        "  except RuntimeError as e:\n",
        "    if 'context has already been set' not in str(e):\n",
        "      raise\n",
        "\n",
        "def start_training():\n",
        "  set_mp_start_method()\n",
        "\n",
        "  # Train the models in parallel\n",
        "  parallel_training(models, model_names, device=device)"
      ],
      "metadata": {
        "id": "l9Fo86fkOrmZ"
      },
      "execution_count": 50,
      "outputs": []
    },
    {
      "cell_type": "code",
      "source": [
        "start_training()"
      ],
      "metadata": {
        "id": "FLXoscCtTVMs"
      },
      "execution_count": 51,
      "outputs": []
    },
    {
      "cell_type": "code",
      "source": [],
      "metadata": {
        "id": "KLYzY_TSTXSY"
      },
      "execution_count": null,
      "outputs": []
    }
  ]
}